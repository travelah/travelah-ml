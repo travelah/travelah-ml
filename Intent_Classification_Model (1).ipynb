{
  "nbformat": 4,
  "nbformat_minor": 0,
  "metadata": {
    "colab": {
      "provenance": [],
      "gpuType": "T4"
    },
    "kernelspec": {
      "name": "python3",
      "display_name": "Python 3"
    },
    "language_info": {
      "name": "python"
    },
    "accelerator": "GPU",
    "gpuClass": "standard",
    "widgets": {
      "application/vnd.jupyter.widget-state+json": {
        "d1963e65f35a429b9f3efe016e4fdebe": {
          "model_module": "@jupyter-widgets/controls",
          "model_name": "TextareaModel",
          "model_module_version": "1.5.0",
          "state": {
            "_dom_classes": [],
            "_model_module": "@jupyter-widgets/controls",
            "_model_module_version": "1.5.0",
            "_model_name": "TextareaModel",
            "_view_count": null,
            "_view_module": "@jupyter-widgets/controls",
            "_view_module_version": "1.5.0",
            "_view_name": "TextareaView",
            "continuous_update": true,
            "description": "",
            "description_tooltip": null,
            "disabled": false,
            "layout": "IPY_MODEL_88989ab6de2b4a84a3061ac8b80b4dd4",
            "placeholder": "Enter what do you want to ask me",
            "rows": 3,
            "style": "IPY_MODEL_353f138fabf84308bc5cbc323545587c",
            "value": "tell me a joke"
          }
        },
        "88989ab6de2b4a84a3061ac8b80b4dd4": {
          "model_module": "@jupyter-widgets/base",
          "model_name": "LayoutModel",
          "model_module_version": "1.2.0",
          "state": {
            "_model_module": "@jupyter-widgets/base",
            "_model_module_version": "1.2.0",
            "_model_name": "LayoutModel",
            "_view_count": null,
            "_view_module": "@jupyter-widgets/base",
            "_view_module_version": "1.2.0",
            "_view_name": "LayoutView",
            "align_content": null,
            "align_items": null,
            "align_self": null,
            "border": null,
            "bottom": null,
            "display": null,
            "flex": null,
            "flex_flow": null,
            "grid_area": null,
            "grid_auto_columns": null,
            "grid_auto_flow": null,
            "grid_auto_rows": null,
            "grid_column": null,
            "grid_gap": null,
            "grid_row": null,
            "grid_template_areas": null,
            "grid_template_columns": null,
            "grid_template_rows": null,
            "height": null,
            "justify_content": null,
            "justify_items": null,
            "left": null,
            "margin": null,
            "max_height": null,
            "max_width": null,
            "min_height": null,
            "min_width": null,
            "object_fit": null,
            "object_position": null,
            "order": null,
            "overflow": null,
            "overflow_x": null,
            "overflow_y": null,
            "padding": null,
            "right": null,
            "top": null,
            "visibility": null,
            "width": null
          }
        },
        "353f138fabf84308bc5cbc323545587c": {
          "model_module": "@jupyter-widgets/controls",
          "model_name": "DescriptionStyleModel",
          "model_module_version": "1.5.0",
          "state": {
            "_model_module": "@jupyter-widgets/controls",
            "_model_module_version": "1.5.0",
            "_model_name": "DescriptionStyleModel",
            "_view_count": null,
            "_view_module": "@jupyter-widgets/base",
            "_view_module_version": "1.2.0",
            "_view_name": "StyleView",
            "description_width": ""
          }
        },
        "d5b70ba868fb45b4ac64cce2b22fbcae": {
          "model_module": "@jupyter-widgets/controls",
          "model_name": "ButtonModel",
          "model_module_version": "1.5.0",
          "state": {
            "_dom_classes": [],
            "_model_module": "@jupyter-widgets/controls",
            "_model_module_version": "1.5.0",
            "_model_name": "ButtonModel",
            "_view_count": null,
            "_view_module": "@jupyter-widgets/controls",
            "_view_module_version": "1.5.0",
            "_view_name": "ButtonView",
            "button_style": "",
            "description": "Submit",
            "disabled": false,
            "icon": "",
            "layout": "IPY_MODEL_cb507f09ffb1426ea508ef62ed5ac675",
            "style": "IPY_MODEL_c8d200dcc78a4b07a133758b88ff47d6",
            "tooltip": ""
          }
        },
        "cb507f09ffb1426ea508ef62ed5ac675": {
          "model_module": "@jupyter-widgets/base",
          "model_name": "LayoutModel",
          "model_module_version": "1.2.0",
          "state": {
            "_model_module": "@jupyter-widgets/base",
            "_model_module_version": "1.2.0",
            "_model_name": "LayoutModel",
            "_view_count": null,
            "_view_module": "@jupyter-widgets/base",
            "_view_module_version": "1.2.0",
            "_view_name": "LayoutView",
            "align_content": null,
            "align_items": null,
            "align_self": null,
            "border": null,
            "bottom": null,
            "display": null,
            "flex": null,
            "flex_flow": null,
            "grid_area": null,
            "grid_auto_columns": null,
            "grid_auto_flow": null,
            "grid_auto_rows": null,
            "grid_column": null,
            "grid_gap": null,
            "grid_row": null,
            "grid_template_areas": null,
            "grid_template_columns": null,
            "grid_template_rows": null,
            "height": null,
            "justify_content": null,
            "justify_items": null,
            "left": null,
            "margin": null,
            "max_height": null,
            "max_width": null,
            "min_height": null,
            "min_width": null,
            "object_fit": null,
            "object_position": null,
            "order": null,
            "overflow": null,
            "overflow_x": null,
            "overflow_y": null,
            "padding": null,
            "right": null,
            "top": null,
            "visibility": null,
            "width": null
          }
        },
        "c8d200dcc78a4b07a133758b88ff47d6": {
          "model_module": "@jupyter-widgets/controls",
          "model_name": "ButtonStyleModel",
          "model_module_version": "1.5.0",
          "state": {
            "_model_module": "@jupyter-widgets/controls",
            "_model_module_version": "1.5.0",
            "_model_name": "ButtonStyleModel",
            "_view_count": null,
            "_view_module": "@jupyter-widgets/base",
            "_view_module_version": "1.2.0",
            "_view_name": "StyleView",
            "button_color": null,
            "font_weight": ""
          }
        }
      }
    }
  },
  "cells": [
    {
      "cell_type": "markdown",
      "source": [
        "# Data Preparation"
      ],
      "metadata": {
        "id": "lgFOsDIB-9GV"
      }
    },
    {
      "cell_type": "markdown",
      "source": [
        "Mount GDrive"
      ],
      "metadata": {
        "id": "FrPghhag-rjm"
      }
    },
    {
      "cell_type": "code",
      "execution_count": 1,
      "metadata": {
        "colab": {
          "base_uri": "https://localhost:8080/"
        },
        "id": "0QkZRCfw9orE",
        "outputId": "19181b74-0da9-4351-ac46-674a385fccc6"
      },
      "outputs": [
        {
          "output_type": "stream",
          "name": "stdout",
          "text": [
            "Drive already mounted at /content/drive; to attempt to forcibly remount, call drive.mount(\"/content/drive\", force_remount=True).\n"
          ]
        }
      ],
      "source": [
        "from google.colab import drive\n",
        "drive.mount('/content/drive')"
      ]
    },
    {
      "cell_type": "markdown",
      "source": [
        "Import Intent Datasets"
      ],
      "metadata": {
        "id": "qDgwERD9-uXe"
      }
    },
    {
      "cell_type": "code",
      "source": [
        "import pandas as pd\n",
        "\n",
        "df_small_talk = pd.read_csv(\"drive/My Drive/BNGKT - Travelah CHATBOT/Intent/travelah - all_intent.csv\")\n",
        "df_small_talk.head(10)"
      ],
      "metadata": {
        "colab": {
          "base_uri": "https://localhost:8080/",
          "height": 363
        },
        "id": "k2BIip0H-Jtu",
        "outputId": "aa688580-c602-458e-9592-f2f8d050acc3"
      },
      "execution_count": 2,
      "outputs": [
        {
          "output_type": "execute_result",
          "data": {
            "text/plain": [
              "                 utterances                        intent  \\\n",
              "0              who are you?  smalltalk_agent_acquaintance   \n",
              "1             all about you  smalltalk_agent_acquaintance   \n",
              "2  what is your personality  smalltalk_agent_acquaintance   \n",
              "3           define yourself  smalltalk_agent_acquaintance   \n",
              "4              what are you  smalltalk_agent_acquaintance   \n",
              "5             say about you  smalltalk_agent_acquaintance   \n",
              "6        introduce yourself  smalltalk_agent_acquaintance   \n",
              "7         describe yourself  smalltalk_agent_acquaintance   \n",
              "8            about yourself  smalltalk_agent_acquaintance   \n",
              "9         tell me about you  smalltalk_agent_acquaintance   \n",
              "\n",
              "                                           responses  \n",
              "0  Hey buddy! I'm Vela, your virtual tour guide f...  \n",
              "1  Hey buddy! I'm Vela, your virtual tour guide f...  \n",
              "2  Hey buddy! I'm Vela, your virtual tour guide f...  \n",
              "3  Hey buddy! I'm Vela, your virtual tour guide f...  \n",
              "4  Hey buddy! I'm Vela, your virtual tour guide f...  \n",
              "5  Hey buddy! I'm Vela, your virtual tour guide f...  \n",
              "6  Hey buddy! I'm Vela, your virtual tour guide f...  \n",
              "7  Hey buddy! I'm Vela, your virtual tour guide f...  \n",
              "8  Hey buddy! I'm Vela, your virtual tour guide f...  \n",
              "9  Hey buddy! I'm Vela, your virtual tour guide f...  "
            ],
            "text/html": [
              "\n",
              "  <div id=\"df-85235376-4e33-41c6-8796-2e575dc0e948\">\n",
              "    <div class=\"colab-df-container\">\n",
              "      <div>\n",
              "<style scoped>\n",
              "    .dataframe tbody tr th:only-of-type {\n",
              "        vertical-align: middle;\n",
              "    }\n",
              "\n",
              "    .dataframe tbody tr th {\n",
              "        vertical-align: top;\n",
              "    }\n",
              "\n",
              "    .dataframe thead th {\n",
              "        text-align: right;\n",
              "    }\n",
              "</style>\n",
              "<table border=\"1\" class=\"dataframe\">\n",
              "  <thead>\n",
              "    <tr style=\"text-align: right;\">\n",
              "      <th></th>\n",
              "      <th>utterances</th>\n",
              "      <th>intent</th>\n",
              "      <th>responses</th>\n",
              "    </tr>\n",
              "  </thead>\n",
              "  <tbody>\n",
              "    <tr>\n",
              "      <th>0</th>\n",
              "      <td>who are you?</td>\n",
              "      <td>smalltalk_agent_acquaintance</td>\n",
              "      <td>Hey buddy! I'm Vela, your virtual tour guide f...</td>\n",
              "    </tr>\n",
              "    <tr>\n",
              "      <th>1</th>\n",
              "      <td>all about you</td>\n",
              "      <td>smalltalk_agent_acquaintance</td>\n",
              "      <td>Hey buddy! I'm Vela, your virtual tour guide f...</td>\n",
              "    </tr>\n",
              "    <tr>\n",
              "      <th>2</th>\n",
              "      <td>what is your personality</td>\n",
              "      <td>smalltalk_agent_acquaintance</td>\n",
              "      <td>Hey buddy! I'm Vela, your virtual tour guide f...</td>\n",
              "    </tr>\n",
              "    <tr>\n",
              "      <th>3</th>\n",
              "      <td>define yourself</td>\n",
              "      <td>smalltalk_agent_acquaintance</td>\n",
              "      <td>Hey buddy! I'm Vela, your virtual tour guide f...</td>\n",
              "    </tr>\n",
              "    <tr>\n",
              "      <th>4</th>\n",
              "      <td>what are you</td>\n",
              "      <td>smalltalk_agent_acquaintance</td>\n",
              "      <td>Hey buddy! I'm Vela, your virtual tour guide f...</td>\n",
              "    </tr>\n",
              "    <tr>\n",
              "      <th>5</th>\n",
              "      <td>say about you</td>\n",
              "      <td>smalltalk_agent_acquaintance</td>\n",
              "      <td>Hey buddy! I'm Vela, your virtual tour guide f...</td>\n",
              "    </tr>\n",
              "    <tr>\n",
              "      <th>6</th>\n",
              "      <td>introduce yourself</td>\n",
              "      <td>smalltalk_agent_acquaintance</td>\n",
              "      <td>Hey buddy! I'm Vela, your virtual tour guide f...</td>\n",
              "    </tr>\n",
              "    <tr>\n",
              "      <th>7</th>\n",
              "      <td>describe yourself</td>\n",
              "      <td>smalltalk_agent_acquaintance</td>\n",
              "      <td>Hey buddy! I'm Vela, your virtual tour guide f...</td>\n",
              "    </tr>\n",
              "    <tr>\n",
              "      <th>8</th>\n",
              "      <td>about yourself</td>\n",
              "      <td>smalltalk_agent_acquaintance</td>\n",
              "      <td>Hey buddy! I'm Vela, your virtual tour guide f...</td>\n",
              "    </tr>\n",
              "    <tr>\n",
              "      <th>9</th>\n",
              "      <td>tell me about you</td>\n",
              "      <td>smalltalk_agent_acquaintance</td>\n",
              "      <td>Hey buddy! I'm Vela, your virtual tour guide f...</td>\n",
              "    </tr>\n",
              "  </tbody>\n",
              "</table>\n",
              "</div>\n",
              "      <button class=\"colab-df-convert\" onclick=\"convertToInteractive('df-85235376-4e33-41c6-8796-2e575dc0e948')\"\n",
              "              title=\"Convert this dataframe to an interactive table.\"\n",
              "              style=\"display:none;\">\n",
              "        \n",
              "  <svg xmlns=\"http://www.w3.org/2000/svg\" height=\"24px\"viewBox=\"0 0 24 24\"\n",
              "       width=\"24px\">\n",
              "    <path d=\"M0 0h24v24H0V0z\" fill=\"none\"/>\n",
              "    <path d=\"M18.56 5.44l.94 2.06.94-2.06 2.06-.94-2.06-.94-.94-2.06-.94 2.06-2.06.94zm-11 1L8.5 8.5l.94-2.06 2.06-.94-2.06-.94L8.5 2.5l-.94 2.06-2.06.94zm10 10l.94 2.06.94-2.06 2.06-.94-2.06-.94-.94-2.06-.94 2.06-2.06.94z\"/><path d=\"M17.41 7.96l-1.37-1.37c-.4-.4-.92-.59-1.43-.59-.52 0-1.04.2-1.43.59L10.3 9.45l-7.72 7.72c-.78.78-.78 2.05 0 2.83L4 21.41c.39.39.9.59 1.41.59.51 0 1.02-.2 1.41-.59l7.78-7.78 2.81-2.81c.8-.78.8-2.07 0-2.86zM5.41 20L4 18.59l7.72-7.72 1.47 1.35L5.41 20z\"/>\n",
              "  </svg>\n",
              "      </button>\n",
              "      \n",
              "  <style>\n",
              "    .colab-df-container {\n",
              "      display:flex;\n",
              "      flex-wrap:wrap;\n",
              "      gap: 12px;\n",
              "    }\n",
              "\n",
              "    .colab-df-convert {\n",
              "      background-color: #E8F0FE;\n",
              "      border: none;\n",
              "      border-radius: 50%;\n",
              "      cursor: pointer;\n",
              "      display: none;\n",
              "      fill: #1967D2;\n",
              "      height: 32px;\n",
              "      padding: 0 0 0 0;\n",
              "      width: 32px;\n",
              "    }\n",
              "\n",
              "    .colab-df-convert:hover {\n",
              "      background-color: #E2EBFA;\n",
              "      box-shadow: 0px 1px 2px rgba(60, 64, 67, 0.3), 0px 1px 3px 1px rgba(60, 64, 67, 0.15);\n",
              "      fill: #174EA6;\n",
              "    }\n",
              "\n",
              "    [theme=dark] .colab-df-convert {\n",
              "      background-color: #3B4455;\n",
              "      fill: #D2E3FC;\n",
              "    }\n",
              "\n",
              "    [theme=dark] .colab-df-convert:hover {\n",
              "      background-color: #434B5C;\n",
              "      box-shadow: 0px 1px 3px 1px rgba(0, 0, 0, 0.15);\n",
              "      filter: drop-shadow(0px 1px 2px rgba(0, 0, 0, 0.3));\n",
              "      fill: #FFFFFF;\n",
              "    }\n",
              "  </style>\n",
              "\n",
              "      <script>\n",
              "        const buttonEl =\n",
              "          document.querySelector('#df-85235376-4e33-41c6-8796-2e575dc0e948 button.colab-df-convert');\n",
              "        buttonEl.style.display =\n",
              "          google.colab.kernel.accessAllowed ? 'block' : 'none';\n",
              "\n",
              "        async function convertToInteractive(key) {\n",
              "          const element = document.querySelector('#df-85235376-4e33-41c6-8796-2e575dc0e948');\n",
              "          const dataTable =\n",
              "            await google.colab.kernel.invokeFunction('convertToInteractive',\n",
              "                                                     [key], {});\n",
              "          if (!dataTable) return;\n",
              "\n",
              "          const docLinkHtml = 'Like what you see? Visit the ' +\n",
              "            '<a target=\"_blank\" href=https://colab.research.google.com/notebooks/data_table.ipynb>data table notebook</a>'\n",
              "            + ' to learn more about interactive tables.';\n",
              "          element.innerHTML = '';\n",
              "          dataTable['output_type'] = 'display_data';\n",
              "          await google.colab.output.renderOutput(dataTable, element);\n",
              "          const docLink = document.createElement('div');\n",
              "          docLink.innerHTML = docLinkHtml;\n",
              "          element.appendChild(docLink);\n",
              "        }\n",
              "      </script>\n",
              "    </div>\n",
              "  </div>\n",
              "  "
            ]
          },
          "metadata": {},
          "execution_count": 2
        }
      ]
    },
    {
      "cell_type": "code",
      "source": [
        "df_small_talk['intent'].value_counts()"
      ],
      "metadata": {
        "colab": {
          "base_uri": "https://localhost:8080/"
        },
        "id": "YCsc3b19tbC7",
        "outputId": "b024cb8b-08fd-4603-bf46-f4d91e0ef94c"
      },
      "execution_count": 3,
      "outputs": [
        {
          "output_type": "execute_result",
          "data": {
            "text/plain": [
              "budget_faq                                 102\n",
              "how_to go_faq                              102\n",
              "smalltalk_agent_tell_me_a_joke             102\n",
              "safe_faq                                   101\n",
              "smalltalk_user_joking                      101\n",
              "smalltalk_user_tired                       101\n",
              "smalltalk_agent_age                        101\n",
              "smalltalk_agent_what_can_you_do            101\n",
              "casino_faq                                 101\n",
              "weather_faq                                101\n",
              "visa_faq                                   101\n",
              "drinkwater_faq                             101\n",
              "preparation_faq                            101\n",
              "clothing_faq                               101\n",
              "foodprice_faq                              101\n",
              "rentcar_faq                                101\n",
              "buddhist_faq                               101\n",
              "language_faq                               101\n",
              "exchange_faq                               101\n",
              "whattoeathalal_faq                         101\n",
              "smalltalk_user_angry                       101\n",
              "smalltalk_dialog_sorry                     101\n",
              "illegal_faq                                101\n",
              "smalltalk_agent_funny                      101\n",
              "smalltalk_agent_annoying                   101\n",
              "smalltalk_agent_answer_my_question         101\n",
              "smalltalk_agent_bad                        101\n",
              "bali_general_faq                           101\n",
              "smalltalk_agent_busy                       101\n",
              "respect_faq                                101\n",
              "medical_faq                                101\n",
              "smalltalk_agent_good                       101\n",
              "smalltalk_appraisal_thank_you              101\n",
              "smalltalk_agent_my_friend                  101\n",
              "traffic_faq                                101\n",
              "smalltalk_agent_talk_to_me                 101\n",
              "smalltalk_greetings_bye                    101\n",
              "transport_faq                              101\n",
              "smalltalk_greetings_how_are_you            101\n",
              "smalltalk_user_sad                         101\n",
              "timevisit_faq                              101\n",
              "smalltalk_agent_acquaintance               100\n",
              "smalltalk_greetings_hello                  100\n",
              "smalltalk_user_say_yes                     100\n",
              "smalltalk_agent_clever                     100\n",
              "smalltalk_agent_boss                       100\n",
              "smalltalk_agent_boring                     100\n",
              "smalltalk_greetings_goodnight              100\n",
              "smalltalk_greetings_nice_to_talk_to_you     99\n",
              "smalltalk_agent_chatbot                     99\n",
              "smalltalk_user_say_no                       86\n",
              "Name: intent, dtype: int64"
            ]
          },
          "metadata": {},
          "execution_count": 3
        }
      ]
    },
    {
      "cell_type": "markdown",
      "source": [
        "Visualize Intent"
      ],
      "metadata": {
        "id": "Gp6KFv2N-4Ym"
      }
    },
    {
      "cell_type": "code",
      "source": [
        "import matplotlib.pyplot as plt\n",
        "\n",
        "plt.figure(figsize=(10,25))\n",
        "df_small_talk['intent'].value_counts().sort_values().plot(kind = 'barh')"
      ],
      "metadata": {
        "colab": {
          "base_uri": "https://localhost:8080/",
          "height": 1000
        },
        "id": "jWY-k_QX-iTz",
        "outputId": "54bdbe87-6332-4519-d09b-ce42d8e17ee8"
      },
      "execution_count": 4,
      "outputs": [
        {
          "output_type": "execute_result",
          "data": {
            "text/plain": [
              "<Axes: >"
            ]
          },
          "metadata": {},
          "execution_count": 4
        },
        {
          "output_type": "display_data",
          "data": {
            "text/plain": [
              "<Figure size 1000x2500 with 1 Axes>"
            ],
            "image/png": "[encoded data removed]"
          },
          "metadata": {}
        }
      ]
    },
    {
      "cell_type": "markdown",
      "source": [
        "## Train-Val Split"
      ],
      "metadata": {
        "id": "oduNJ-p-QAs_"
      }
    },
    {
      "cell_type": "markdown",
      "source": [
        "Label Encoding"
      ],
      "metadata": {
        "id": "cQ_7CTYlWUxw"
      }
    },
    {
      "cell_type": "code",
      "source": [
        "# converting type of columns to 'category'\n",
        "df_small_talk['intent'] = df_small_talk['intent'].astype('category')\n",
        "# Assigning numerical values and storing in another column\n",
        "df_small_talk['intent_encoding'] = df_small_talk['intent'].cat.codes\n",
        "df_small_talk"
      ],
      "metadata": {
        "colab": {
          "base_uri": "https://localhost:8080/",
          "height": 423
        },
        "id": "njwqZd_9Wkmy",
        "outputId": "922c5694-2a14-4830-a3c8-ef431c108342"
      },
      "execution_count": 5,
      "outputs": [
        {
          "output_type": "execute_result",
          "data": {
            "text/plain": [
              "                                             utterances  \\\n",
              "0                                          who are you?   \n",
              "1                                         all about you   \n",
              "2                              what is your personality   \n",
              "3                                       define yourself   \n",
              "4                                          what are you   \n",
              "...                                                 ...   \n",
              "5123  Can I make Bali happen without going all out o...   \n",
              "5124  Is Bali a solid choice for those trying to sav...   \n",
              "5125  Can I get my Bali vibe on without spending mad...   \n",
              "5126  Is it realistic to chase Bali dreams without a...   \n",
              "5127  Can I have a dope time in Bali without being c...   \n",
              "\n",
              "                            intent  \\\n",
              "0     smalltalk_agent_acquaintance   \n",
              "1     smalltalk_agent_acquaintance   \n",
              "2     smalltalk_agent_acquaintance   \n",
              "3     smalltalk_agent_acquaintance   \n",
              "4     smalltalk_agent_acquaintance   \n",
              "...                            ...   \n",
              "5123                    budget_faq   \n",
              "5124                    budget_faq   \n",
              "5125                    budget_faq   \n",
              "5126                    budget_faq   \n",
              "5127                    budget_faq   \n",
              "\n",
              "                                              responses  intent_encoding  \n",
              "0     Hey buddy! I'm Vela, your virtual tour guide f...               16  \n",
              "1     Hey buddy! I'm Vela, your virtual tour guide f...               16  \n",
              "2     Hey buddy! I'm Vela, your virtual tour guide f...               16  \n",
              "3     Hey buddy! I'm Vela, your virtual tour guide f...               16  \n",
              "4     Hey buddy! I'm Vela, your virtual tour guide f...               16  \n",
              "...                                                 ...              ...  \n",
              "5123  Absolutely, buddy! Bali can totally fit your b...                2  \n",
              "5124  Absolutely, buddy! Bali can totally fit your b...                2  \n",
              "5125  Absolutely, buddy! Bali can totally fit your b...                2  \n",
              "5126  Absolutely, buddy! Bali can totally fit your b...                2  \n",
              "5127  Absolutely, buddy! Bali can totally fit your b...                2  \n",
              "\n",
              "[5128 rows x 4 columns]"
            ],
            "text/html": [
              "\n",
              "  <div id=\"df-e66a94e4-37d3-49a0-b018-9309eb0cbea0\">\n",
              "    <div class=\"colab-df-container\">\n",
              "      <div>\n",
              "<style scoped>\n",
              "    .dataframe tbody tr th:only-of-type {\n",
              "        vertical-align: middle;\n",
              "    }\n",
              "\n",
              "    .dataframe tbody tr th {\n",
              "        vertical-align: top;\n",
              "    }\n",
              "\n",
              "    .dataframe thead th {\n",
              "        text-align: right;\n",
              "    }\n",
              "</style>\n",
              "<table border=\"1\" class=\"dataframe\">\n",
              "  <thead>\n",
              "    <tr style=\"text-align: right;\">\n",
              "      <th></th>\n",
              "      <th>utterances</th>\n",
              "      <th>intent</th>\n",
              "      <th>responses</th>\n",
              "      <th>intent_encoding</th>\n",
              "    </tr>\n",
              "  </thead>\n",
              "  <tbody>\n",
              "    <tr>\n",
              "      <th>0</th>\n",
              "      <td>who are you?</td>\n",
              "      <td>smalltalk_agent_acquaintance</td>\n",
              "      <td>Hey buddy! I'm Vela, your virtual tour guide f...</td>\n",
              "      <td>16</td>\n",
              "    </tr>\n",
              "    <tr>\n",
              "      <th>1</th>\n",
              "      <td>all about you</td>\n",
              "      <td>smalltalk_agent_acquaintance</td>\n",
              "      <td>Hey buddy! I'm Vela, your virtual tour guide f...</td>\n",
              "      <td>16</td>\n",
              "    </tr>\n",
              "    <tr>\n",
              "      <th>2</th>\n",
              "      <td>what is your personality</td>\n",
              "      <td>smalltalk_agent_acquaintance</td>\n",
              "      <td>Hey buddy! I'm Vela, your virtual tour guide f...</td>\n",
              "      <td>16</td>\n",
              "    </tr>\n",
              "    <tr>\n",
              "      <th>3</th>\n",
              "      <td>define yourself</td>\n",
              "      <td>smalltalk_agent_acquaintance</td>\n",
              "      <td>Hey buddy! I'm Vela, your virtual tour guide f...</td>\n",
              "      <td>16</td>\n",
              "    </tr>\n",
              "    <tr>\n",
              "      <th>4</th>\n",
              "      <td>what are you</td>\n",
              "      <td>smalltalk_agent_acquaintance</td>\n",
              "      <td>Hey buddy! I'm Vela, your virtual tour guide f...</td>\n",
              "      <td>16</td>\n",
              "    </tr>\n",
              "    <tr>\n",
              "      <th>...</th>\n",
              "      <td>...</td>\n",
              "      <td>...</td>\n",
              "      <td>...</td>\n",
              "      <td>...</td>\n",
              "    </tr>\n",
              "    <tr>\n",
              "      <th>5123</th>\n",
              "      <td>Can I make Bali happen without going all out o...</td>\n",
              "      <td>budget_faq</td>\n",
              "      <td>Absolutely, buddy! Bali can totally fit your b...</td>\n",
              "      <td>2</td>\n",
              "    </tr>\n",
              "    <tr>\n",
              "      <th>5124</th>\n",
              "      <td>Is Bali a solid choice for those trying to sav...</td>\n",
              "      <td>budget_faq</td>\n",
              "      <td>Absolutely, buddy! Bali can totally fit your b...</td>\n",
              "      <td>2</td>\n",
              "    </tr>\n",
              "    <tr>\n",
              "      <th>5125</th>\n",
              "      <td>Can I get my Bali vibe on without spending mad...</td>\n",
              "      <td>budget_faq</td>\n",
              "      <td>Absolutely, buddy! Bali can totally fit your b...</td>\n",
              "      <td>2</td>\n",
              "    </tr>\n",
              "    <tr>\n",
              "      <th>5126</th>\n",
              "      <td>Is it realistic to chase Bali dreams without a...</td>\n",
              "      <td>budget_faq</td>\n",
              "      <td>Absolutely, buddy! Bali can totally fit your b...</td>\n",
              "      <td>2</td>\n",
              "    </tr>\n",
              "    <tr>\n",
              "      <th>5127</th>\n",
              "      <td>Can I have a dope time in Bali without being c...</td>\n",
              "      <td>budget_faq</td>\n",
              "      <td>Absolutely, buddy! Bali can totally fit your b...</td>\n",
              "      <td>2</td>\n",
              "    </tr>\n",
              "  </tbody>\n",
              "</table>\n",
              "<p>5128 rows × 4 columns</p>\n",
              "</div>\n",
              "      <button class=\"colab-df-convert\" onclick=\"convertToInteractive('df-e66a94e4-37d3-49a0-b018-9309eb0cbea0')\"\n",
              "              title=\"Convert this dataframe to an interactive table.\"\n",
              "              style=\"display:none;\">\n",
              "        \n",
              "  <svg xmlns=\"http://www.w3.org/2000/svg\" height=\"24px\"viewBox=\"0 0 24 24\"\n",
              "       width=\"24px\">\n",
              "    <path d=\"M0 0h24v24H0V0z\" fill=\"none\"/>\n",
              "    <path d=\"M18.56 5.44l.94 2.06.94-2.06 2.06-.94-2.06-.94-.94-2.06-.94 2.06-2.06.94zm-11 1L8.5 8.5l.94-2.06 2.06-.94-2.06-.94L8.5 2.5l-.94 2.06-2.06.94zm10 10l.94 2.06.94-2.06 2.06-.94-2.06-.94-.94-2.06-.94 2.06-2.06.94z\"/><path d=\"M17.41 7.96l-1.37-1.37c-.4-.4-.92-.59-1.43-.59-.52 0-1.04.2-1.43.59L10.3 9.45l-7.72 7.72c-.78.78-.78 2.05 0 2.83L4 21.41c.39.39.9.59 1.41.59.51 0 1.02-.2 1.41-.59l7.78-7.78 2.81-2.81c.8-.78.8-2.07 0-2.86zM5.41 20L4 18.59l7.72-7.72 1.47 1.35L5.41 20z\"/>\n",
              "  </svg>\n",
              "      </button>\n",
              "      \n",
              "  <style>\n",
              "    .colab-df-container {\n",
              "      display:flex;\n",
              "      flex-wrap:wrap;\n",
              "      gap: 12px;\n",
              "    }\n",
              "\n",
              "    .colab-df-convert {\n",
              "      background-color: #E8F0FE;\n",
              "      border: none;\n",
              "      border-radius: 50%;\n",
              "      cursor: pointer;\n",
              "      display: none;\n",
              "      fill: #1967D2;\n",
              "      height: 32px;\n",
              "      padding: 0 0 0 0;\n",
              "      width: 32px;\n",
              "    }\n",
              "\n",
              "    .colab-df-convert:hover {\n",
              "      background-color: #E2EBFA;\n",
              "      box-shadow: 0px 1px 2px rgba(60, 64, 67, 0.3), 0px 1px 3px 1px rgba(60, 64, 67, 0.15);\n",
              "      fill: #174EA6;\n",
              "    }\n",
              "\n",
              "    [theme=dark] .colab-df-convert {\n",
              "      background-color: #3B4455;\n",
              "      fill: #D2E3FC;\n",
              "    }\n",
              "\n",
              "    [theme=dark] .colab-df-convert:hover {\n",
              "      background-color: #434B5C;\n",
              "      box-shadow: 0px 1px 3px 1px rgba(0, 0, 0, 0.15);\n",
              "      filter: drop-shadow(0px 1px 2px rgba(0, 0, 0, 0.3));\n",
              "      fill: #FFFFFF;\n",
              "    }\n",
              "  </style>\n",
              "\n",
              "      <script>\n",
              "        const buttonEl =\n",
              "          document.querySelector('#df-e66a94e4-37d3-49a0-b018-9309eb0cbea0 button.colab-df-convert');\n",
              "        buttonEl.style.display =\n",
              "          google.colab.kernel.accessAllowed ? 'block' : 'none';\n",
              "\n",
              "        async function convertToInteractive(key) {\n",
              "          const element = document.querySelector('#df-e66a94e4-37d3-49a0-b018-9309eb0cbea0');\n",
              "          const dataTable =\n",
              "            await google.colab.kernel.invokeFunction('convertToInteractive',\n",
              "                                                     [key], {});\n",
              "          if (!dataTable) return;\n",
              "\n",
              "          const docLinkHtml = 'Like what you see? Visit the ' +\n",
              "            '<a target=\"_blank\" href=https://colab.research.google.com/notebooks/data_table.ipynb>data table notebook</a>'\n",
              "            + ' to learn more about interactive tables.';\n",
              "          element.innerHTML = '';\n",
              "          dataTable['output_type'] = 'display_data';\n",
              "          await google.colab.output.renderOutput(dataTable, element);\n",
              "          const docLink = document.createElement('div');\n",
              "          docLink.innerHTML = docLinkHtml;\n",
              "          element.appendChild(docLink);\n",
              "        }\n",
              "      </script>\n",
              "    </div>\n",
              "  </div>\n",
              "  "
            ]
          },
          "metadata": {},
          "execution_count": 5
        }
      ]
    },
    {
      "cell_type": "code",
      "source": [
        "from sklearn.model_selection import train_test_split\n",
        "# Split the dataset into X (features) and y (intent labels)\n",
        "X = df_small_talk['utterances']  # Assuming 'text' column contains the input features\n",
        "y = df_small_talk['intent_encoding']  # Assuming 'intent' column contains the intent labels\n",
        "\n",
        "# Split the data into training and test sets\n",
        "X_train, X_val, y_train, y_val = train_test_split(X, y, test_size=0.2, random_state=42)\n",
        "\n",
        "# Further split the training set into training and validation sets\n",
        "X_train, X_test, y_train, y_test = train_test_split(X_train, y_train, test_size=0.2, random_state=42)\n",
        "\n",
        "X_train = X_train.values\n",
        "X_val = X_val.values\n",
        "X_test = X_test.values\n",
        "y_train = y_train.values\n",
        "y_val = y_val.values\n",
        "y_test = y_test.values"
      ],
      "metadata": {
        "id": "E14XDU92WWW_"
      },
      "execution_count": 6,
      "outputs": []
    },
    {
      "cell_type": "code",
      "source": [
        "X_train"
      ],
      "metadata": {
        "colab": {
          "base_uri": "https://localhost:8080/"
        },
        "id": "-T3RJVehbv2d",
        "outputId": "c23e8cab-5e7a-41e9-aef1-711b754da126"
      },
      "execution_count": 7,
      "outputs": [
        {
          "output_type": "execute_result",
          "data": {
            "text/plain": [
              "array([\"What's the deal with your incredible intelligence?\",\n",
              "       \"What's the coolest time to embark on a surfing adventure in Bali's world-famous waves?\",\n",
              "       'Alright, mate! I need some guidance. How can I get around in Bali? Any tips?',\n",
              "       ..., \"i'm grateful\",\n",
              "       'Are there any specific places where I can easily exchange my currency in Bali?',\n",
              "       \"What's the deal with being all respectful and stuff to the locals in Bali?\"],\n",
              "      dtype=object)"
            ]
          },
          "metadata": {},
          "execution_count": 7
        }
      ]
    },
    {
      "cell_type": "code",
      "source": [
        "len(X_train), len(X_test), len(X_val)"
      ],
      "metadata": {
        "colab": {
          "base_uri": "https://localhost:8080/"
        },
        "id": "ZoMQsx9pbyl1",
        "outputId": "6acd8c16-3060-4e0f-915f-28f910304cc5"
      },
      "execution_count": 8,
      "outputs": [
        {
          "output_type": "execute_result",
          "data": {
            "text/plain": [
              "(3281, 821, 1026)"
            ]
          },
          "metadata": {},
          "execution_count": 8
        }
      ]
    },
    {
      "cell_type": "code",
      "source": [
        "len(y_train), len(y_test), len(y_val)"
      ],
      "metadata": {
        "colab": {
          "base_uri": "https://localhost:8080/"
        },
        "id": "lnGCrEhIRMNY",
        "outputId": "65c24987-325a-4b46-ae2f-36b73af2f786"
      },
      "execution_count": 9,
      "outputs": [
        {
          "output_type": "execute_result",
          "data": {
            "text/plain": [
              "(3281, 821, 1026)"
            ]
          },
          "metadata": {},
          "execution_count": 9
        }
      ]
    },
    {
      "cell_type": "code",
      "source": [
        "y_train"
      ],
      "metadata": {
        "colab": {
          "base_uri": "https://localhost:8080/"
        },
        "id": "-JhffHvoaxv0",
        "outputId": "62ae2821-efe5-48d3-f15f-96e598cc36e1"
      },
      "execution_count": 10,
      "outputs": [
        {
          "output_type": "execute_result",
          "data": {
            "text/plain": [
              "array([25, 45, 47, ..., 32,  6, 14], dtype=int8)"
            ]
          },
          "metadata": {},
          "execution_count": 10
        }
      ]
    },
    {
      "cell_type": "markdown",
      "source": [
        "# Modelling"
      ],
      "metadata": {
        "id": "4hDLfoI8_GL9"
      }
    },
    {
      "cell_type": "code",
      "source": [
        "# Required to preprocess text for BERT inputs\n",
        "!pip install -q tensorflow-text==2.11.*\n",
        "!pip install -q tf-models-official==2.11.0\n",
        "!pip install tf-models-official"
      ],
      "metadata": {
        "id": "_03PcifqNWyP"
      },
      "execution_count": null,
      "outputs": []
    },
    {
      "cell_type": "code",
      "source": [
        "import os\n",
        "import shutil\n",
        "\n",
        "import tensorflow as tf\n",
        "import tensorflow_hub as hub\n",
        "import tensorflow_text as text\n",
        "from official.nlp import optimization  # to create AdamW optimizer\n",
        "\n",
        "tf.get_logger().setLevel('ERROR')"
      ],
      "metadata": {
        "id": "kjSVcdqF_seN"
      },
      "execution_count": null,
      "outputs": []
    },
    {
      "cell_type": "markdown",
      "source": [
        "Initiate BERT model and preprocessor"
      ],
      "metadata": {
        "id": "aQAiWh8EBXHV"
      }
    },
    {
      "cell_type": "code",
      "source": [
        "bert_encoder_model = 'https://tfhub.dev/tensorflow/bert_en_uncased_L-12_H-768_A-12/4'\n",
        "bert_preprocessor = 'https://tfhub.dev/tensorflow/bert_en_uncased_preprocess/3'"
      ],
      "metadata": {
        "id": "bfHpHo-VBGRc"
      },
      "execution_count": 12,
      "outputs": []
    },
    {
      "cell_type": "markdown",
      "source": [
        "Test the preprocessor"
      ],
      "metadata": {
        "id": "jvmpC7EuBa1d"
      }
    },
    {
      "cell_type": "code",
      "source": [
        "bert_preprocess_model = hub.KerasLayer(bert_preprocessor)"
      ],
      "metadata": {
        "id": "IlMLCvWu_z8y"
      },
      "execution_count": 13,
      "outputs": []
    },
    {
      "cell_type": "code",
      "source": [
        "text_test = ['this is such an amazing movie!']\n",
        "text_preprocessed = bert_preprocess_model(text_test)\n",
        "\n",
        "print(f'Keys       : {list(text_preprocessed.keys())}')\n",
        "print(f'Shape      : {text_preprocessed[\"input_word_ids\"].shape}')\n",
        "print(f'Word Ids   : {text_preprocessed[\"input_word_ids\"][0, :12]}')\n",
        "print(f'Input Mask : {text_preprocessed[\"input_mask\"][0, :12]}')\n",
        "print(f'Type Ids   : {text_preprocessed[\"input_type_ids\"][0, :12]}')"
      ],
      "metadata": {
        "colab": {
          "base_uri": "https://localhost:8080/"
        },
        "id": "lYO3fehDA3lG",
        "outputId": "9e26a09c-ef8b-4aaf-c62b-627856056a9a"
      },
      "execution_count": 14,
      "outputs": [
        {
          "output_type": "stream",
          "name": "stdout",
          "text": [
            "Keys       : ['input_type_ids', 'input_mask', 'input_word_ids']\n",
            "Shape      : (1, 128)\n",
            "Word Ids   : [ 101 2023 2003 2107 2019 6429 3185  999  102    0    0    0]\n",
            "Input Mask : [1 1 1 1 1 1 1 1 1 0 0 0]\n",
            "Type Ids   : [0 0 0 0 0 0 0 0 0 0 0 0]\n"
          ]
        }
      ]
    },
    {
      "cell_type": "markdown",
      "source": [
        "Test the BERT model"
      ],
      "metadata": {
        "id": "3TyNl4grBm7O"
      }
    },
    {
      "cell_type": "code",
      "source": [
        "bert_model = hub.KerasLayer(bert_encoder_model)"
      ],
      "metadata": {
        "id": "VAwgHzOCCGNN"
      },
      "execution_count": 15,
      "outputs": []
    },
    {
      "cell_type": "code",
      "source": [
        "bert_results = bert_model(text_preprocessed)\n",
        "\n",
        "print(f'Loaded BERT: {bert_encoder_model}')\n",
        "print(f'Pooled Outputs Shape:{bert_results[\"pooled_output\"].shape}')\n",
        "print(f'Pooled Outputs Values:{bert_results[\"pooled_output\"][0, :12]}')\n",
        "print(f'Sequence Outputs Shape:{bert_results[\"sequence_output\"].shape}')\n",
        "print(f'Sequence Outputs Values:{bert_results[\"sequence_output\"][0, :12]}')"
      ],
      "metadata": {
        "id": "lQ246f7wBQw3"
      },
      "execution_count": null,
      "outputs": []
    },
    {
      "cell_type": "markdown",
      "source": [
        "# Adding Classifier Layer"
      ],
      "metadata": {
        "id": "r2cJrelbDn_F"
      }
    },
    {
      "cell_type": "markdown",
      "source": [
        "## Standard Dense Layer"
      ],
      "metadata": {
        "id": "8D3blL0NuyX7"
      }
    },
    {
      "cell_type": "code",
      "source": [
        "def build_classifier_model():\n",
        "  text_input = tf.keras.layers.Input(shape=(), dtype=tf.string, name='text')\n",
        "  preprocessing_layer = hub.KerasLayer(bert_preprocessor, name='preprocessing')\n",
        "  encoder_inputs = preprocessing_layer(text_input)\n",
        "  encoder = hub.KerasLayer(bert_encoder_model, trainable=True, name='BERT_encoder')\n",
        "  outputs = encoder(encoder_inputs)\n",
        "  net = outputs['pooled_output']\n",
        "  net = tf.keras.layers.Dropout(0.1)(net)\n",
        "  net = tf.keras.layers.Dense(num_classes, activation=None, name='classifier')(net)\n",
        "  return tf.keras.Model(text_input, net)"
      ],
      "metadata": {
        "id": "Cx4QstGnBrQB"
      },
      "execution_count": null,
      "outputs": []
    },
    {
      "cell_type": "code",
      "source": [
        "# loss = tf.keras.losses.CategoricalCrossentropy(from_logits=True)\n",
        "metrics = tf.metrics.CategoricalAccuracy()\n",
        "epochs=5\n",
        "optimizer=tf.keras.optimizers.Adam(1e-5)"
      ],
      "metadata": {
        "id": "PF54zu4qEknZ"
      },
      "execution_count": null,
      "outputs": []
    },
    {
      "cell_type": "code",
      "source": [
        "num_classes = len(df_small_talk['intent'].unique())"
      ],
      "metadata": {
        "id": "NzMQOB1_TmXG"
      },
      "execution_count": null,
      "outputs": []
    },
    {
      "cell_type": "code",
      "source": [
        "y_train"
      ],
      "metadata": {
        "colab": {
          "base_uri": "https://localhost:8080/"
        },
        "id": "n-qY4AAWV5o_",
        "outputId": "77513b83-83d9-4f25-fa6c-ed20e16255b8"
      },
      "execution_count": null,
      "outputs": [
        {
          "output_type": "execute_result",
          "data": {
            "text/plain": [
              "array([ 0,  1, 16, ..., 16,  8, 18], dtype=int8)"
            ]
          },
          "metadata": {},
          "execution_count": 18
        }
      ]
    },
    {
      "cell_type": "code",
      "source": [
        "# Build the classifier model\n",
        "classifier_model = build_classifier_model()\n",
        "# classifier_model = build_classifier_model_double_bert()"
      ],
      "metadata": {
        "id": "OaXxic_1bhko"
      },
      "execution_count": null,
      "outputs": []
    },
    {
      "cell_type": "code",
      "source": [
        "# Compile the model\n",
        "classifier_model.compile(optimizer=optimizer,\n",
        "                         loss=loss,\n",
        "                         metrics=metrics)\n",
        "\n",
        "# Convert target labels to one-hot encoding\n",
        "y_train_one_hot = tf.one_hot(y_train, num_classes)\n",
        "y_val_one_hot = tf.one_hot(y_val, num_classes)"
      ],
      "metadata": {
        "id": "1HcV9sgmTiQX"
      },
      "execution_count": null,
      "outputs": []
    },
    {
      "cell_type": "code",
      "source": [
        "y_val_one_hot"
      ],
      "metadata": {
        "colab": {
          "base_uri": "https://localhost:8080/"
        },
        "id": "pVmVbRq4cT6F",
        "outputId": "2bb605f3-ae12-4ce3-e5d0-c8ab3b6020e5"
      },
      "execution_count": null,
      "outputs": [
        {
          "output_type": "execute_result",
          "data": {
            "text/plain": [
              "<tf.Tensor: shape=(586, 29), dtype=float32, numpy=\n",
              "array([[0., 0., 0., ..., 0., 0., 0.],\n",
              "       [0., 0., 0., ..., 0., 0., 0.],\n",
              "       [0., 0., 0., ..., 0., 0., 0.],\n",
              "       ...,\n",
              "       [0., 0., 0., ..., 0., 0., 0.],\n",
              "       [0., 0., 0., ..., 0., 0., 0.],\n",
              "       [0., 0., 0., ..., 0., 0., 0.]], dtype=float32)>"
            ]
          },
          "metadata": {},
          "execution_count": 28
        }
      ]
    },
    {
      "cell_type": "code",
      "source": [
        "# Train the model\n",
        "history = classifier_model.fit(x=X_train, y=y_train_one_hot,\n",
        "                               validation_data=(X_val, y_val_one_hot),\n",
        "                               batch_size=32,\n",
        "                               epochs=7)"
      ],
      "metadata": {
        "colab": {
          "base_uri": "https://localhost:8080/"
        },
        "id": "UPC24Q8NRrwU",
        "outputId": "2d3c58b4-1677-4c05-aa5d-122e28350046"
      },
      "execution_count": null,
      "outputs": [
        {
          "output_type": "stream",
          "name": "stdout",
          "text": [
            "Epoch 1/7\n",
            "59/59 [==============================] - 122s 1s/step - loss: 3.1558 - categorical_accuracy: 0.1147 - val_loss: 2.5981 - val_categorical_accuracy: 0.2884\n",
            "Epoch 2/7\n",
            "59/59 [==============================] - 62s 1s/step - loss: 2.2563 - categorical_accuracy: 0.4771 - val_loss: 1.6612 - val_categorical_accuracy: 0.7218\n",
            "Epoch 3/7\n",
            "59/59 [==============================] - 62s 1s/step - loss: 1.4589 - categorical_accuracy: 0.7812 - val_loss: 1.0405 - val_categorical_accuracy: 0.8532\n",
            "Epoch 4/7\n",
            "59/59 [==============================] - 62s 1s/step - loss: 0.8882 - categorical_accuracy: 0.9002 - val_loss: 0.6660 - val_categorical_accuracy: 0.9044\n",
            "Epoch 5/7\n",
            "59/59 [==============================] - 58s 980ms/step - loss: 0.5455 - categorical_accuracy: 0.9605 - val_loss: 0.4437 - val_categorical_accuracy: 0.9300\n",
            "Epoch 6/7\n",
            "59/59 [==============================] - 62s 1s/step - loss: 0.3480 - categorical_accuracy: 0.9755 - val_loss: 0.3324 - val_categorical_accuracy: 0.9369\n",
            "Epoch 7/7\n",
            "59/59 [==============================] - 61s 1s/step - loss: 0.2340 - categorical_accuracy: 0.9845 - val_loss: 0.2812 - val_categorical_accuracy: 0.9369\n"
          ]
        }
      ]
    },
    {
      "cell_type": "markdown",
      "source": [
        "Evaluate"
      ],
      "metadata": {
        "id": "O_vutxeTbEp0"
      }
    },
    {
      "cell_type": "code",
      "source": [
        "y_test_one_hot = tf.one_hot(y_test, num_classes)"
      ],
      "metadata": {
        "id": "DCpBB8s9bGKt"
      },
      "execution_count": null,
      "outputs": []
    },
    {
      "cell_type": "code",
      "source": [
        "loss, accuracy = classifier_model.evaluate(X_test,y_test_one_hot)\n",
        "\n",
        "print(f'Loss: {loss}')\n",
        "print(f'Accuracy: {accuracy}')"
      ],
      "metadata": {
        "colab": {
          "base_uri": "https://localhost:8080/"
        },
        "id": "o9kWtqWod-AF",
        "outputId": "3cf5c8b0-e356-4296-d1c7-efbca9fb492f"
      },
      "execution_count": null,
      "outputs": [
        {
          "output_type": "stream",
          "name": "stdout",
          "text": [
            "15/15 [==============================] - 5s 322ms/step - loss: 0.2596 - categorical_accuracy: 0.9467\n",
            "Loss: 0.25964465737342834\n",
            "Accuracy: 0.94669508934021\n"
          ]
        }
      ]
    },
    {
      "cell_type": "markdown",
      "source": [
        "Visualize"
      ],
      "metadata": {
        "id": "oApy41LqaILW"
      }
    },
    {
      "cell_type": "code",
      "source": [
        "import matplotlib.pyplot as plt\n",
        "tf.get_logger().setLevel('ERROR')\n",
        "import seaborn as sns\n",
        "from pylab import rcParams\n",
        "\n",
        "sns.set(style='whitegrid', palette='muted', font_scale=1.2)\n",
        "HAPPY_COLORS_PALETTE = [\"#01BEFE\", \"#FFDD00\", \"#FF7D00\", \"#FF006D\", \"#ADFF02\", \"#8F00FF\"]\n",
        "sns.set_palette(sns.color_palette(HAPPY_COLORS_PALETTE))\n",
        "rcParams['figure.figsize'] = 12, 8\n",
        "import warnings\n",
        "warnings.filterwarnings(\"ignore\")"
      ],
      "metadata": {
        "id": "bdu36Qt7Zy1l"
      },
      "execution_count": null,
      "outputs": []
    },
    {
      "cell_type": "code",
      "source": [
        "history_dict = history.history\n",
        "print(history_dict.keys())\n",
        "\n",
        "acc = history_dict['categorical_accuracy']\n",
        "val_acc = history_dict['val_categorical_accuracy']\n",
        "loss = history_dict['loss']\n",
        "val_loss = history_dict['val_loss']\n",
        "\n",
        "epochs = range(1, len(acc) + 1)\n",
        "fig = plt.figure(figsize=(10, 8))\n",
        "fig.tight_layout()\n",
        "\n",
        "plt.subplot(2, 1, 1)\n",
        "# \"bo\" is for \"blue dot\"\n",
        "plt.plot(epochs, loss, 'r', label='Training loss')\n",
        "# b is for \"solid blue line\"\n",
        "plt.plot(epochs, val_loss, 'b', label='Validation loss')\n",
        "plt.title('Training and validation loss')\n",
        "plt.grid(True)\n",
        "# plt.xlabel('Epochs')\n",
        "plt.ylabel('Loss')\n",
        "plt.legend()\n",
        "\n",
        "plt.subplot(2, 1, 2)\n",
        "plt.plot(epochs, acc, 'r', label='Training acc')\n",
        "plt.plot(epochs, val_acc, 'b', label='Validation acc')\n",
        "plt.title('Training and validation accuracy')\n",
        "plt.grid(True)\n",
        "plt.xlabel('Epochs')\n",
        "plt.ylabel('Accuracy')\n",
        "plt.legend(loc='lower right')"
      ],
      "metadata": {
        "colab": {
          "base_uri": "https://localhost:8080/",
          "height": 767
        },
        "id": "1MrCBksdW6pU",
        "outputId": "89ee7157-89c6-45a4-b66b-1191216a16ba"
      },
      "execution_count": null,
      "outputs": [
        {
          "output_type": "stream",
          "name": "stdout",
          "text": [
            "dict_keys(['loss', 'categorical_accuracy', 'val_loss', 'val_categorical_accuracy'])\n"
          ]
        },
        {
          "output_type": "execute_result",
          "data": {
            "text/plain": [
              "<matplotlib.legend.Legend at 0x7f5814d59f00>"
            ]
          },
          "metadata": {},
          "execution_count": 33
        },
        {
          "output_type": "display_data",
          "data": {
            "text/plain": [
              "<Figure size 1000x800 with 2 Axes>"
            ],
            "image/png": "[encoded data removed]"
          },
          "metadata": {}
        }
      ]
    },
    {
      "cell_type": "markdown",
      "source": [
        "## Let's Talk to VELA"
      ],
      "metadata": {
        "id": "hIOWdZdXqTdD"
      }
    },
    {
      "cell_type": "code",
      "source": [
        "intent_mapping = df_small_talk.groupby('intent_encoding')['intent'].first().to_dict()"
      ],
      "metadata": {
        "id": "g0REyXb_hkP0"
      },
      "execution_count": null,
      "outputs": []
    },
    {
      "cell_type": "code",
      "source": [
        "intent_mapping"
      ],
      "metadata": {
        "colab": {
          "base_uri": "https://localhost:8080/"
        },
        "id": "7ogr-MZMho7d",
        "outputId": "4b95abcd-90a9-4a6f-f362-50bf20ba0f0d"
      },
      "execution_count": null,
      "outputs": [
        {
          "output_type": "execute_result",
          "data": {
            "text/plain": [
              "{0: 'smalltalk_agent_acquaintance',\n",
              " 1: 'smalltalk_agent_age',\n",
              " 2: 'smalltalk_agent_annoying',\n",
              " 3: 'smalltalk_agent_answer_my_question',\n",
              " 4: 'smalltalk_agent_bad',\n",
              " 5: 'smalltalk_agent_boring',\n",
              " 6: 'smalltalk_agent_boss',\n",
              " 7: 'smalltalk_agent_busy',\n",
              " 8: 'smalltalk_agent_chatbot',\n",
              " 9: 'smalltalk_agent_clever',\n",
              " 10: 'smalltalk_agent_funny',\n",
              " 11: 'smalltalk_agent_good',\n",
              " 12: 'smalltalk_agent_my_friend',\n",
              " 13: 'smalltalk_agent_talk_to_me',\n",
              " 14: 'smalltalk_agent_tell_me_a_joke',\n",
              " 15: 'smalltalk_agent_what_can_you_do',\n",
              " 16: 'smalltalk_appraisal_thank_you',\n",
              " 17: 'smalltalk_dialog_sorry',\n",
              " 18: 'smalltalk_greetings_bye',\n",
              " 19: 'smalltalk_greetings_goodnight',\n",
              " 20: 'smalltalk_greetings_hello',\n",
              " 21: 'smalltalk_greetings_how_are_you',\n",
              " 22: 'smalltalk_greetings_nice_to_talk_to_you',\n",
              " 23: 'smalltalk_user_angry',\n",
              " 24: 'smalltalk_user_joking',\n",
              " 25: 'smalltalk_user_sad',\n",
              " 26: 'smalltalk_user_say_no',\n",
              " 27: 'smalltalk_user_say_yes',\n",
              " 28: 'smalltalk_user_tired'}"
            ]
          },
          "metadata": {},
          "execution_count": 45
        }
      ]
    },
    {
      "cell_type": "markdown",
      "source": [
        "Test chat"
      ],
      "metadata": {
        "id": "bl68glChnZw8"
      }
    },
    {
      "cell_type": "code",
      "source": [
        "import numpy as np\n",
        "\n",
        "user_utterance = \"hello man\"\n",
        "user_utterance = np.array([user_utterance])\n",
        "\n",
        "# Make the prediction\n",
        "predictions = classifier_model.predict(user_utterance)\n",
        "predicted_intent_index = np.argmax(predictions)\n",
        "\n",
        "# Map the predicted intent index to intent label and response\n",
        "predicted_intent_label = intent_mapping[predicted_intent_index]\n",
        "predicted_response = df_small_talk.loc[df_small_talk['intent'] == predicted_intent_label, 'responses'].iloc[0]\n",
        "\n",
        "print(\"Predicted Intent:\", predicted_intent_label)\n",
        "print(\"VELA:\", predicted_response)"
      ],
      "metadata": {
        "colab": {
          "base_uri": "https://localhost:8080/"
        },
        "id": "aiWm__nbguB0",
        "outputId": "f60a7c30-4c71-426d-b830-5c6d57dd3483"
      },
      "execution_count": null,
      "outputs": [
        {
          "output_type": "stream",
          "name": "stdout",
          "text": [
            "1/1 [==============================] - 0s 78ms/step\n",
            "Predicted Intent: smalltalk_greetings_hello\n",
            "VELA: Hi there! Ready to explore Indonesia together? I'm here and excited to be your virtual tour guide.\n"
          ]
        }
      ]
    },
    {
      "cell_type": "markdown",
      "source": [
        "Chat simulation"
      ],
      "metadata": {
        "id": "lBjnf9JXl4ys"
      }
    },
    {
      "cell_type": "code",
      "source": [
        "import numpy as np\n",
        "import ipywidgets as widgets\n",
        "\n",
        "# Create a text box for user input\n",
        "text_box = widgets.Textarea(value='', placeholder='Enter what do you want to ask me', rows=3)\n",
        "\n",
        "# Display the text box\n",
        "display(text_box)\n",
        "\n",
        "# Create a button for submitting the input\n",
        "button = widgets.Button(description='Submit')\n",
        "\n",
        "# Function to handle button click event\n",
        "def on_button_clicked(b):\n",
        "    user_input = np.array([text_box.value])  # Get the user input from the text box\n",
        "    \n",
        "    # Make the prediction\n",
        "    predictions = classifier_model.predict(user_input)\n",
        "    predicted_intent_index = np.argmax(predictions)\n",
        "\n",
        "    # Map the predicted intent index to intent label and response\n",
        "    predicted_intent_label = intent_mapping[predicted_intent_index]\n",
        "    predicted_response = df_small_talk.loc[df_small_talk['intent'] == predicted_intent_label, 'responses'].iloc[0]\n",
        "\n",
        "    print(\"Predicted Intent:\", predicted_intent_label)\n",
        "    print(\"VELA:\", predicted_response)\n",
        "\n",
        "# Register the button click event handler\n",
        "button.on_click(on_button_clicked)\n",
        "\n",
        "# Display the button\n",
        "display(button)"
      ],
      "metadata": {
        "colab": {
          "base_uri": "https://localhost:8080/",
          "height": 337,
          "referenced_widgets": [
            "d1963e65f35a429b9f3efe016e4fdebe",
            "88989ab6de2b4a84a3061ac8b80b4dd4",
            "353f138fabf84308bc5cbc323545587c",
            "d5b70ba868fb45b4ac64cce2b22fbcae",
            "cb507f09ffb1426ea508ef62ed5ac675",
            "c8d200dcc78a4b07a133758b88ff47d6"
          ]
        },
        "id": "gjsiJi_DkoZt",
        "outputId": "2e6aa548-e32c-497e-cb3e-50dfc0043dce"
      },
      "execution_count": null,
      "outputs": [
        {
          "output_type": "display_data",
          "data": {
            "text/plain": [
              "Textarea(value='', placeholder='Enter what do you want to ask me', rows=3)"
            ],
            "application/vnd.jupyter.widget-view+json": {
              "version_major": 2,
              "version_minor": 0,
              "model_id": "d1963e65f35a429b9f3efe016e4fdebe"
            }
          },
          "metadata": {}
        },
        {
          "output_type": "display_data",
          "data": {
            "text/plain": [
              "Button(description='Submit', style=ButtonStyle())"
            ],
            "application/vnd.jupyter.widget-view+json": {
              "version_major": 2,
              "version_minor": 0,
              "model_id": "d5b70ba868fb45b4ac64cce2b22fbcae"
            }
          },
          "metadata": {}
        },
        {
          "output_type": "stream",
          "name": "stdout",
          "text": [
            "1/1 [==============================] - 0s 47ms/step\n",
            "Predicted Intent: smalltalk_greetings_hello\n",
            "VELA: Hi there! Ready to explore Indonesia together? I'm here and excited to be your virtual tour guide.\n",
            "1/1 [==============================] - 0s 47ms/step\n",
            "Predicted Intent: smalltalk_agent_what_can_you_do\n",
            "VELA: Hey, buddy! I'm your go-to gal when it comes to exploring Indonesia. I can provide you with all the juicy deets on the most breathtaking destinations, recommend must-visit spots, and help you plan your dream virtual tour. Whether you need information about local culture, cuisine, or hidden gems, I've got you covered! Just let me know what you're looking for, and I'll sprinkle my virtual tour guide magic to make it happen.\n",
            "1/1 [==============================] - 0s 49ms/step\n",
            "Predicted Intent: smalltalk_greetings_hello\n",
            "VELA: Hi there! Ready to explore Indonesia together? I'm here and excited to be your virtual tour guide.\n",
            "1/1 [==============================] - 0s 28ms/step\n",
            "Predicted Intent: smalltalk_agent_tell_me_a_joke\n",
            "VELA: Alright, get ready to giggle, buddy! Here's a little joke to brighten your day: Why don't scientists trust atoms? Because they make up everything! Haha!\n"
          ]
        }
      ]
    },
    {
      "cell_type": "code",
      "source": [],
      "metadata": {
        "id": "pqb1PzVsmNBs"
      },
      "execution_count": null,
      "outputs": []
    },
    {
      "cell_type": "markdown",
      "source": [
        "# CNN Model"
      ],
      "metadata": {
        "id": "VygZ9RQCHfZS"
      }
    },
    {
      "cell_type": "code",
      "source": [
        "def build_CNN_classifier_model():\n",
        "    text_input = tf.keras.layers.Input(shape=(), dtype=tf.string, name='text')\n",
        "    preprocessing_layer = hub.KerasLayer(bert_preprocessor, name='preprocessing')\n",
        "    encoder_inputs = preprocessing_layer(text_input)\n",
        "    encoder = hub.KerasLayer(bert_encoder_model, trainable=True, name='BERT_encoder')\n",
        "    outputs = encoder(encoder_inputs)\n",
        "    net = sequence_output = outputs[\"sequence_output\"]\n",
        "\n",
        "    net = tf.keras.layers.Conv1D(32, 2, activation='relu')(net)\n",
        "    net = tf.keras.layers.Conv1D(64, 2, activation='relu')(net)\n",
        "    net = tf.keras.layers.MaxPooling1D(pool_size=2)(net)\n",
        "    \n",
        "    net = tf.keras.layers.GlobalMaxPool1D()(net)\n",
        "    \n",
        "    net = tf.keras.layers.Dense(512, activation=\"relu\")(net)\n",
        "    net = tf.keras.layers.Dropout(0.1)(net)\n",
        "    \n",
        "    net = tf.keras.layers.Dense(num_classes, activation=\"softmax\", name='classifier')(net)\n",
        "    \n",
        "    return tf.keras.Model(text_input, net)"
      ],
      "metadata": {
        "id": "q3X9x6cONa6v"
      },
      "execution_count": 17,
      "outputs": []
    },
    {
      "cell_type": "code",
      "source": [
        "# loss = tf.keras.losses.CategoricalCrossentropy(from_logits=True)\n",
        "metrics = tf.metrics.CategoricalAccuracy()\n",
        "epochs = 7\n",
        "optimizer=tf.keras.optimizers.Adam(1e-5)"
      ],
      "metadata": {
        "id": "OM_DQ7vDN0dn"
      },
      "execution_count": 19,
      "outputs": []
    },
    {
      "cell_type": "code",
      "source": [
        "num_classes = len(df_small_talk['intent'].unique())"
      ],
      "metadata": {
        "id": "ulcW8vC1Nz7I"
      },
      "execution_count": 20,
      "outputs": []
    },
    {
      "cell_type": "code",
      "source": [
        "classifier_model_cnn = build_CNN_classifier_model()"
      ],
      "metadata": {
        "id": "ijaxX1ZcHjWX"
      },
      "execution_count": 21,
      "outputs": []
    },
    {
      "cell_type": "code",
      "source": [
        "loss = tf.keras.losses.CategoricalCrossentropy(from_logits=False)"
      ],
      "metadata": {
        "id": "CWx4WvpQI4kX"
      },
      "execution_count": 22,
      "outputs": []
    },
    {
      "cell_type": "code",
      "source": [
        "# Compile the model\n",
        "classifier_model_cnn.compile(optimizer=optimizer,\n",
        "                         loss=loss,\n",
        "                         metrics=metrics)\n",
        "\n",
        "# Convert target labels to one-hot encoding\n",
        "y_train_one_hot = tf.one_hot(y_train, num_classes)\n",
        "y_val_one_hot = tf.one_hot(y_val, num_classes)"
      ],
      "metadata": {
        "id": "rO-JWx9NHuaf"
      },
      "execution_count": 23,
      "outputs": []
    },
    {
      "cell_type": "code",
      "source": [
        "# Train the model\n",
        "history = classifier_model_cnn.fit(x=X_train, y=y_train_one_hot,\n",
        "                               validation_data=(X_val, y_val_one_hot),\n",
        "                               batch_size=32,\n",
        "                               epochs=epochs)"
      ],
      "metadata": {
        "colab": {
          "base_uri": "https://localhost:8080/"
        },
        "id": "OCPs7a_cHvYv",
        "outputId": "93f90097-46b6-4ef1-9fd3-810479f8ff32"
      },
      "execution_count": 24,
      "outputs": [
        {
          "output_type": "stream",
          "name": "stdout",
          "text": [
            "Epoch 1/7\n",
            "103/103 [==============================] - 163s 1s/step - loss: 3.9079 - categorical_accuracy: 0.0366 - val_loss: 3.8027 - val_categorical_accuracy: 0.0780\n",
            "Epoch 2/7\n",
            "103/103 [==============================] - 105s 1s/step - loss: 3.6413 - categorical_accuracy: 0.1134 - val_loss: 3.3419 - val_categorical_accuracy: 0.1969\n",
            "Epoch 3/7\n",
            "103/103 [==============================] - 114s 1s/step - loss: 3.0515 - categorical_accuracy: 0.2902 - val_loss: 2.5654 - val_categorical_accuracy: 0.5136\n",
            "Epoch 4/7\n",
            "103/103 [==============================] - 114s 1s/step - loss: 2.2273 - categorical_accuracy: 0.5986 - val_loss: 1.6952 - val_categorical_accuracy: 0.7827\n",
            "Epoch 5/7\n",
            "103/103 [==============================] - 114s 1s/step - loss: 1.4737 - categorical_accuracy: 0.8183 - val_loss: 1.0377 - val_categorical_accuracy: 0.8850\n",
            "Epoch 6/7\n",
            "103/103 [==============================] - 105s 1s/step - loss: 0.9351 - categorical_accuracy: 0.9153 - val_loss: 0.6232 - val_categorical_accuracy: 0.9454\n",
            "Epoch 7/7\n",
            "103/103 [==============================] - 114s 1s/step - loss: 0.5693 - categorical_accuracy: 0.9649 - val_loss: 0.4049 - val_categorical_accuracy: 0.9542\n"
          ]
        }
      ]
    },
    {
      "cell_type": "code",
      "source": [
        "y_test_one_hot = tf.one_hot(y_test, num_classes)"
      ],
      "metadata": {
        "id": "RVFDM_T4ymgj"
      },
      "execution_count": 25,
      "outputs": []
    },
    {
      "cell_type": "code",
      "source": [
        "loss, accuracy = classifier_model_cnn.evaluate(X_test,y_test_one_hot)\n",
        "\n",
        "print(f'Loss: {loss}')\n",
        "print(f'Accuracy: {accuracy}')"
      ],
      "metadata": {
        "colab": {
          "base_uri": "https://localhost:8080/"
        },
        "id": "17rydL1YH7ua",
        "outputId": "e22f3eac-91ed-4a49-eafc-41d4b0880ed6"
      },
      "execution_count": 26,
      "outputs": [
        {
          "output_type": "stream",
          "name": "stdout",
          "text": [
            "26/26 [==============================] - 9s 331ms/step - loss: 0.3996 - categorical_accuracy: 0.9501\n",
            "Loss: 0.39957839250564575\n",
            "Accuracy: 0.9500609040260315\n"
          ]
        }
      ]
    },
    {
      "cell_type": "markdown",
      "source": [
        "### Save Model"
      ],
      "metadata": {
        "id": "Omqc9sHz2MtG"
      }
    },
    {
      "cell_type": "code",
      "source": [
        "# Save the model\n",
        "model_filename = \"classifier_model_cnn.h5\"\n",
        "path = f\"drive/My Drive/BNGKT - Travelah CHATBOT/Model/{model_filename}\" \n",
        "classifier_model_cnn.save(model_filename)\n",
        "print(\"Model saved as\", model_filename)"
      ],
      "metadata": {
        "colab": {
          "base_uri": "https://localhost:8080/"
        },
        "id": "DS0S4km01_g7",
        "outputId": "cb056a3b-d176-4454-e999-9beec457167a"
      },
      "execution_count": 38,
      "outputs": [
        {
          "output_type": "stream",
          "name": "stdout",
          "text": [
            "Model saved as classifier_model_cnn.h5\n"
          ]
        }
      ]
    },
    {
      "cell_type": "markdown",
      "source": [
        "Testing the saved model"
      ],
      "metadata": {
        "id": "rE4K3vh82Oer"
      }
    },
    {
      "cell_type": "code",
      "source": [
        "from tensorflow.keras.models import load_model\n",
        "\n",
        "# Load the saved model\n",
        "model_filename = \"classifier_model_cnn.h5\"\n",
        "loaded_model = load_model(model_filename, custom_objects={'KerasLayer': hub.KerasLayer})\n",
        "print(\"Model loaded from\", model_filename)\n",
        "\n",
        "# Use the loaded model for prediction\n",
        "predictions = loaded_model.predict(X_test)"
      ],
      "metadata": {
        "colab": {
          "base_uri": "https://localhost:8080/"
        },
        "id": "ZqbimAMR2JIq",
        "outputId": "9b65c34d-44a0-4fa8-af21-eac02d7c6b46"
      },
      "execution_count": 48,
      "outputs": [
        {
          "output_type": "stream",
          "name": "stdout",
          "text": [
            "Model loaded from classifier_model_cnn.h5\n",
            "26/26 [==============================] - 10s 370ms/step\n"
          ]
        }
      ]
    },
    {
      "cell_type": "code",
      "source": [
        "intent_mapping = df_small_talk.groupby('intent_encoding')['intent'].first().to_dict()"
      ],
      "metadata": {
        "id": "mQcqwaC_y9vr"
      },
      "execution_count": 28,
      "outputs": []
    },
    {
      "cell_type": "code",
      "source": [
        "import numpy as np\n",
        "\n",
        "user_utterance = \"you good?\"\n",
        "user_utterance = np.array([user_utterance])\n",
        "\n",
        "# Make the prediction\n",
        "predictions = loaded_model.predict(user_utterance)\n",
        "predicted_intent_index = np.argmax(predictions)\n",
        "\n",
        "# Map the predicted intent index to intent label and response\n",
        "predicted_intent_label = intent_mapping[predicted_intent_index]\n",
        "predicted_response = df_small_talk.loc[df_small_talk['intent'] == predicted_intent_label, 'responses'].iloc[0]\n",
        "\n",
        "print(\"Predicted Intent:\", predicted_intent_label)\n",
        "print(\"VELA:\", predicted_response)"
      ],
      "metadata": {
        "colab": {
          "base_uri": "https://localhost:8080/"
        },
        "id": "ZdFQYQ1hLBu-",
        "outputId": "1740a2ed-4e7f-4a89-bf7e-d3040140df55"
      },
      "execution_count": 54,
      "outputs": [
        {
          "output_type": "stream",
          "name": "stdout",
          "text": [
            "1/1 [==============================] - 0s 78ms/step\n",
            "Predicted Intent: smalltalk_greetings_how_are_you\n",
            "VELA: Hey, thanks for asking! I'm doing great and feeling super excited to be your virtual tour guide for exploring Indonesia. My day is going fantastic, and I'm here, ready to make your virtual tour experience amazing. \n"
          ]
        }
      ]
    },
    {
      "cell_type": "code",
      "source": [],
      "metadata": {
        "id": "t13eZPMrLDuj"
      },
      "execution_count": null,
      "outputs": []
    }
  ]
}